{
 "cells": [
  {
   "cell_type": "code",
   "execution_count": 11,
   "metadata": {
    "collapsed": true
   },
   "outputs": [],
   "source": [
    "import os\n",
    "import json\n",
    "import numpy as np\n",
    "import time\n",
    "\n",
    "try:\n",
    "    import dill as pickle\n",
    "except ImportError:\n",
    "    import pickle\n",
    "\n",
    "import pandas as pd\n",
    "from PIL import Image, ImageDraw\n",
    "import math\n",
    "import random\n",
    "import cv2\n",
    "\n",
    "from config import Config\n",
    "import utils"
   ]
  },
  {
   "cell_type": "code",
   "execution_count": 12,
   "metadata": {
    "collapsed": true
   },
   "outputs": [],
   "source": [
    "HOME = os.getcwd()\n",
    "IMAGE_DIR = '/root/Lab/data/Cityscapes/leftImg8bit'\n",
    "ANN_DIR = '/root/Lab/data/Cityscapes/gtFine'"
   ]
  },
  {
   "cell_type": "code",
   "execution_count": 13,
   "metadata": {},
   "outputs": [],
   "source": [
    "def image_ann_paths(ret = True, pickle_files = False):\n",
    "    \"\"\"creates dictionaries for path to images and annotation files\n",
    "    optional pickle files can be created\n",
    "    \"\"\"\n",
    "    image_dct = {}\n",
    "    ann_dct = {}\n",
    "    for directory in [\"train\",\"val\",\"test\"]:\n",
    "        images = []\n",
    "        ann = []\n",
    "        image_path = os.path.join(IMAGE_DIR, directory)\n",
    "        ann_path = os.path.join(ANN_DIR, directory)\n",
    "        cities = [d for d in os.listdir(image_path)]\n",
    "        for city in cities:\n",
    "            print(\"appending data: {} city from {} directory\".format(city,directory))\n",
    "            city_path = os.path.join(image_path, city)\n",
    "            city_ann_path = os.path.join(ann_path, city)\n",
    "            for file in os.listdir(city_path):\n",
    "                images.append(os.path.join(city_path,file))\n",
    "                filename = \"_\".join(file.split(\"_\")[:3])\n",
    "                filename += \"_gtFine_polygons.json\"\n",
    "                ann.append(os.path.join(city_ann_path, filename))\n",
    "        image_dct[directory] = images\n",
    "        ann_dct[directory] = ann\n",
    "        \n",
    "        if pickle_files:\n",
    "            pickle.dump(images,open(\"image_{}.pickle\".format(directory), \"wb\"))\n",
    "            pickle.dump(ann,open(\"ann_{}.pickle\".format(directory), \"wb\"))\n",
    "    if ret:        \n",
    "        return image_dct, ann_dct"
   ]
  },
  {
   "cell_type": "code",
   "execution_count": 14,
   "metadata": {},
   "outputs": [
    {
     "output_type": "stream",
     "name": "stdout",
     "text": [
      "appending data: jena city from train directory\nappending data: stuttgart city from train directory\nappending data: ulm city from train directory\nappending data: dusseldorf city from train directory\nappending data: darmstadt city from train directory\nappending data: zurich city from train directory\nappending data: bremen city from train directory\nappending data: bochum city from train directory\nappending data: hamburg city from train directory\nappending data: tubingen city from train directory\nappending data: aachen city from train directory\nappending data: krefeld city from train directory\nappending data: hanover city from train directory\nappending data: weimar city from train directory\nappending data: strasbourg city from train directory\nappending data: cologne city from train directory\nappending data: erfurt city from train directory\nappending data: monchengladbach city from train directory\nappending data: frankfurt city from val directory\nappending data: munster city from val directory\nappending data: lindau city from val directory\nappending data: berlin city from test directory\nappending data: mainz city from test directory\nappending data: bielefeld city from test directory\nappending data: leverkusen city from test directory\nappending data: bonn city from test directory\nappending data: munich city from test directory\n"
     ]
    }
   ],
   "source": [
    "images, annotations = image_ann_paths(pickle_files=True)"
   ]
  },
  {
   "cell_type": "code",
   "execution_count": 15,
   "metadata": {},
   "outputs": [],
   "source": [
    "images = pickle.load(open(\"image_train.pickle\", \"rb\"))\n",
    "annotations = pickle.load(open(\"ann_train.pickle\", \"rb\"))\n",
    "labels = ['bicycle', 'bicyclegroup', 'bridge', 'building', 'bus', 'car',\n",
    "        'caravan', 'cargroup', 'dynamic', 'ego vehicle', 'fence', 'ground',\n",
    "          'guard rail', 'license plate', 'motorcycle', 'motorcyclegroup',\n",
    "          'out of roi', 'parking', 'person', 'persongroup', 'pole',\n",
    "          'polegroup', 'rail track', 'rectification border', 'rider',\n",
    "          'ridergroup', 'road', 'sidewalk', 'sky', 'static', 'terrain',\n",
    "          'traffic light', 'traffic sign', 'trailer', 'train', 'truck',\n",
    "          'truckgroup', 'tunnel', 'vegetation', 'wall']"
   ]
  },
  {
   "cell_type": "code",
   "execution_count": 16,
   "metadata": {},
   "outputs": [
    {
     "output_type": "execute_result",
     "data": {
      "text/plain": [
       "40"
      ]
     },
     "metadata": {},
     "execution_count": 16
    }
   ],
   "source": [
    "len(labels)"
   ]
  },
  {
   "cell_type": "code",
   "execution_count": 17,
   "metadata": {},
   "outputs": [
    {
     "output_type": "stream",
     "name": "stdout",
     "text": [
      "87\n"
     ]
    },
    {
     "output_type": "execute_result",
     "data": {
      "text/plain": [
       "<matplotlib.image.AxesImage at 0x7f450bd47860>"
      ]
     },
     "metadata": {},
     "execution_count": 17
    },
    {
     "output_type": "display_data",
     "data": {
      "text/plain": "<Figure size 432x288 with 1 Axes>",
      "image/svg+xml": "<?xml version=\"1.0\" encoding=\"utf-8\" standalone=\"no\"?>\n<!DOCTYPE svg PUBLIC \"-//W3C//DTD SVG 1.1//EN\"\n  \"http://www.w3.org/Graphics/SVG/1.1/DTD/svg11.dtd\">\n<!-- Created with matplotlib (https://matplotlib.org/) -->\n<svg height=\"202.195605pt\" version=\"1.1\" viewBox=\"0 0 386.609863 202.195605\" width=\"386.609863pt\" xmlns=\"http://www.w3.org/2000/svg\" xmlns:xlink=\"http://www.w3.org/1999/xlink\">\n <metadata>\n  <rdf:RDF xmlns:cc=\"http://creativecommons.org/ns#\" xmlns:dc=\"http://purl.org/dc/elements/1.1/\" xmlns:rdf=\"http://www.w3.org/1999/02/22-rdf-syntax-ns#\">\n   <cc:Work>\n    <dc:type rdf:resource=\"http://purl.org/dc/dcmitype/StillImage\"/>\n    <dc:date>2021-02-25T18:34:06.334079</dc:date>\n    <dc:format>image/svg+xml</dc:format>\n    <dc:creator>\n     <cc:Agent>\n      <dc:title>Matplotlib v3.3.3, https://matplotlib.org/</dc:title>\n     </cc:Agent>\n    </dc:creator>\n   </cc:Work>\n  </rdf:RDF>\n </metadata>\n <defs>\n  <style type=\"text/css\">*{stroke-linecap:butt;stroke-linejoin:round;}</style>\n </defs>\n <g id=\"figure_1\">\n  <g id=\"patch_1\">\n   <path d=\"M -0 202.195605 \nL 386.609863 202.195605 \nL 386.609863 0 \nL -0 0 \nz\n\" style=\"fill:none;\"/>\n  </g>\n  <g id=\"axes_1\">\n   <g id=\"patch_2\">\n    <path d=\"M 39.65 178.31748 \nL 374.45 178.31748 \nL 374.45 10.91748 \nL 39.65 10.91748 \nz\n\" style=\"fill:#ffffff;\"/>\n   </g>\n   <g clip-path=\"url(#p711b69c5c4)\">\n    <image height=\"168\" id=\"image8ff5a5c9b0\" transform=\"scale(1 -1)translate(0 -168)\" width=\"335\" x=\"39.65\" xlink:href=\"data:image/png;base64,\niVBORw0KGgoAAAANSUhEUgAAAU8AAACoCAYAAABg+2x8AAAEdklEQVR4nO3bMWtUWRjH4fdOdgIaJSIpQsQMNkJQSxELu0AKNZVgk8r0qcWvY53Oz5DKCGKvTieKxEACkkwyWywbcBM3u3/QmeE+D5xi7pzirX5w7plpqmpYAPwvnVEPADCJxBMgIJ4AAfEECIgnQEA8AQLiCRAQT4CAeAIExBMgIJ4AAfEECIgnQEA8AQLiCRAQT4CAeAIExBMgIJ4AAfEECIgnQEA8AQLiCRAQT4CAeAIExBMgIJ4AAfEECIgnQEA8AQLiCRAQT4CAeAIExBMgIJ4AAfEECIgnQEA8AQLiCRAQT4CAeAIExBMgIJ4AAfEECIgnQEA8AQLiCRAQT4CAeAIExBMgIJ4AAfEECIgnQEA8AQLiCRAQT4CAeAIExBMgIJ4AAfEECIgnQEA8AQLiCRAQT4CAeAIExBMgIJ4AAfEECIgnQEA8AQLiCRAQT4CAeAIExBMgIJ4AAfEECIgnQEA8AQLiCRAQT4CAeAIExBMgIJ4AAfEECIgnQEA8AQLiCRAQT4CAeAIExBMgIJ4AAfEECIgnQEA8AQLiCRAQT4CAeAIExBMgIJ4AAfEECIgnQEA8AQLiCRAQT4CAeAIExBMgIJ4AAfEECIgnQEA8AQLiCRAQT4CAeAIExBMgIJ4AAfEECIgnQEA8AQLiCRAQT4CAeAIExBMgIJ4AAfEECIgnQEA8AQLiCRAQT+DE5cuXa35+vqanp0c9ytj7Y9QDAOOhaZp6/vx5PXv2rD5+/Fjv3r2r7e3tev36db1586aGw+GoRxw7Q8uyrPn5+WG/3x/+09bW1rDb7Y58vnFbju1ANU1Ta2trdf369VPfffr0qQaDwQimGm+O7dBS3W63bty4Uffu3avl5eV6+PBhNU1zat/+/r4j+xnEE1pqZWWlXr58WbOzs2dG82/Hx8e/carJIZ7QUktLS3XlypVz971///7XDzOBvPOElpqZmflP+w4ODn7xJJNJPKGlrl27VgcHB+e+z/z+/ftvmmiyNPXXtTvQMr1er+bm5mpxcbEuXbpUvV6vVldX6+7duz/se/LkSW1ubo5oyvHlnSe0VL/fr36/X9vb2yfPFhYWTsXThdHZxBOoCxcu1NLSUt28efOH54PBoL5+/TqiqcabeEJLTU1N1Z07d+rx48f16NGjun37dl28ePGHPUdHR/Xt27fRDDjmxBNa6v79+/Xq1auanZ0d9SgTyW07tFCn06n19fVzw7m3t+fY/hPiCS20uLhYy8vLNRgM/vVCaDAY+J3nTzi2Qwvt7u7W06dPq2mampubq6tXr1a3260XL15Ur9c72Xd8fOx/7T8hntBCOzs7tbW1der5rVu3amNj4+Tz58+fa29v73eONjHEEzixublZDx48qC9fvtSHDx/q7du3dXh4OOqxxpJ/GAEnOp1OTU9P1+HhYR0dHY16nLEmngABt+0AAfEECIgnQEA8AQLiCRAQT4CAeAIExBMgIJ4AAfEECIgnQEA8AQLiCRAQT4CAeAIExBMgIJ4AAfEECIgnQOBPRF4ADLPH+2IAAAAASUVORK5CYII=\" y=\"-10.31748\"/>\n   </g>\n   <g id=\"matplotlib.axis_1\">\n    <g id=\"xtick_1\">\n     <g id=\"line2d_1\">\n      <defs>\n       <path d=\"M 0 0 \nL 0 3.5 \n\" id=\"m69bc63499d\" style=\"stroke:#000000;stroke-width:0.8;\"/>\n      </defs>\n      <g>\n       <use style=\"stroke:#000000;stroke-width:0.8;\" x=\"39.731738\" xlink:href=\"#m69bc63499d\" y=\"178.31748\"/>\n      </g>\n     </g>\n     <g id=\"text_1\">\n      <!-- 0 -->\n      <g transform=\"translate(36.550488 192.915918)scale(0.1 -0.1)\">\n       <defs>\n        <path d=\"M 31.78125 66.40625 \nQ 24.171875 66.40625 20.328125 58.90625 \nQ 16.5 51.421875 16.5 36.375 \nQ 16.5 21.390625 20.328125 13.890625 \nQ 24.171875 6.390625 31.78125 6.390625 \nQ 39.453125 6.390625 43.28125 13.890625 \nQ 47.125 21.390625 47.125 36.375 \nQ 47.125 51.421875 43.28125 58.90625 \nQ 39.453125 66.40625 31.78125 66.40625 \nz\nM 31.78125 74.21875 \nQ 44.046875 74.21875 50.515625 64.515625 \nQ 56.984375 54.828125 56.984375 36.375 \nQ 56.984375 17.96875 50.515625 8.265625 \nQ 44.046875 -1.421875 31.78125 -1.421875 \nQ 19.53125 -1.421875 13.0625 8.265625 \nQ 6.59375 17.96875 6.59375 36.375 \nQ 6.59375 54.828125 13.0625 64.515625 \nQ 19.53125 74.21875 31.78125 74.21875 \nz\n\" id=\"DejaVuSans-48\"/>\n       </defs>\n       <use xlink:href=\"#DejaVuSans-48\"/>\n      </g>\n     </g>\n    </g>\n    <g id=\"xtick_2\">\n     <g id=\"line2d_2\">\n      <g>\n       <use style=\"stroke:#000000;stroke-width:0.8;\" x=\"80.600879\" xlink:href=\"#m69bc63499d\" y=\"178.31748\"/>\n      </g>\n     </g>\n     <g id=\"text_2\">\n      <!-- 250 -->\n      <g transform=\"translate(71.057129 192.915918)scale(0.1 -0.1)\">\n       <defs>\n        <path d=\"M 19.1875 8.296875 \nL 53.609375 8.296875 \nL 53.609375 0 \nL 7.328125 0 \nL 7.328125 8.296875 \nQ 12.9375 14.109375 22.625 23.890625 \nQ 32.328125 33.6875 34.8125 36.53125 \nQ 39.546875 41.84375 41.421875 45.53125 \nQ 43.3125 49.21875 43.3125 52.78125 \nQ 43.3125 58.59375 39.234375 62.25 \nQ 35.15625 65.921875 28.609375 65.921875 \nQ 23.96875 65.921875 18.8125 64.3125 \nQ 13.671875 62.703125 7.8125 59.421875 \nL 7.8125 69.390625 \nQ 13.765625 71.78125 18.9375 73 \nQ 24.125 74.21875 28.421875 74.21875 \nQ 39.75 74.21875 46.484375 68.546875 \nQ 53.21875 62.890625 53.21875 53.421875 \nQ 53.21875 48.921875 51.53125 44.890625 \nQ 49.859375 40.875 45.40625 35.40625 \nQ 44.1875 33.984375 37.640625 27.21875 \nQ 31.109375 20.453125 19.1875 8.296875 \nz\n\" id=\"DejaVuSans-50\"/>\n        <path d=\"M 10.796875 72.90625 \nL 49.515625 72.90625 \nL 49.515625 64.59375 \nL 19.828125 64.59375 \nL 19.828125 46.734375 \nQ 21.96875 47.46875 24.109375 47.828125 \nQ 26.265625 48.1875 28.421875 48.1875 \nQ 40.625 48.1875 47.75 41.5 \nQ 54.890625 34.8125 54.890625 23.390625 \nQ 54.890625 11.625 47.5625 5.09375 \nQ 40.234375 -1.421875 26.90625 -1.421875 \nQ 22.3125 -1.421875 17.546875 -0.640625 \nQ 12.796875 0.140625 7.71875 1.703125 \nL 7.71875 11.625 \nQ 12.109375 9.234375 16.796875 8.0625 \nQ 21.484375 6.890625 26.703125 6.890625 \nQ 35.15625 6.890625 40.078125 11.328125 \nQ 45.015625 15.765625 45.015625 23.390625 \nQ 45.015625 31 40.078125 35.4375 \nQ 35.15625 39.890625 26.703125 39.890625 \nQ 22.75 39.890625 18.8125 39.015625 \nQ 14.890625 38.140625 10.796875 36.28125 \nz\n\" id=\"DejaVuSans-53\"/>\n       </defs>\n       <use xlink:href=\"#DejaVuSans-50\"/>\n       <use x=\"63.623047\" xlink:href=\"#DejaVuSans-53\"/>\n       <use x=\"127.246094\" xlink:href=\"#DejaVuSans-48\"/>\n      </g>\n     </g>\n    </g>\n    <g id=\"xtick_3\">\n     <g id=\"line2d_3\">\n      <g>\n       <use style=\"stroke:#000000;stroke-width:0.8;\" x=\"121.47002\" xlink:href=\"#m69bc63499d\" y=\"178.31748\"/>\n      </g>\n     </g>\n     <g id=\"text_3\">\n      <!-- 500 -->\n      <g transform=\"translate(111.92627 192.915918)scale(0.1 -0.1)\">\n       <use xlink:href=\"#DejaVuSans-53\"/>\n       <use x=\"63.623047\" xlink:href=\"#DejaVuSans-48\"/>\n       <use x=\"127.246094\" xlink:href=\"#DejaVuSans-48\"/>\n      </g>\n     </g>\n    </g>\n    <g id=\"xtick_4\">\n     <g id=\"line2d_4\">\n      <g>\n       <use style=\"stroke:#000000;stroke-width:0.8;\" x=\"162.33916\" xlink:href=\"#m69bc63499d\" y=\"178.31748\"/>\n      </g>\n     </g>\n     <g id=\"text_4\">\n      <!-- 750 -->\n      <g transform=\"translate(152.79541 192.915918)scale(0.1 -0.1)\">\n       <defs>\n        <path d=\"M 8.203125 72.90625 \nL 55.078125 72.90625 \nL 55.078125 68.703125 \nL 28.609375 0 \nL 18.3125 0 \nL 43.21875 64.59375 \nL 8.203125 64.59375 \nz\n\" id=\"DejaVuSans-55\"/>\n       </defs>\n       <use xlink:href=\"#DejaVuSans-55\"/>\n       <use x=\"63.623047\" xlink:href=\"#DejaVuSans-53\"/>\n       <use x=\"127.246094\" xlink:href=\"#DejaVuSans-48\"/>\n      </g>\n     </g>\n    </g>\n    <g id=\"xtick_5\">\n     <g id=\"line2d_5\">\n      <g>\n       <use style=\"stroke:#000000;stroke-width:0.8;\" x=\"203.208301\" xlink:href=\"#m69bc63499d\" y=\"178.31748\"/>\n      </g>\n     </g>\n     <g id=\"text_5\">\n      <!-- 1000 -->\n      <g transform=\"translate(190.483301 192.915918)scale(0.1 -0.1)\">\n       <defs>\n        <path d=\"M 12.40625 8.296875 \nL 28.515625 8.296875 \nL 28.515625 63.921875 \nL 10.984375 60.40625 \nL 10.984375 69.390625 \nL 28.421875 72.90625 \nL 38.28125 72.90625 \nL 38.28125 8.296875 \nL 54.390625 8.296875 \nL 54.390625 0 \nL 12.40625 0 \nz\n\" id=\"DejaVuSans-49\"/>\n       </defs>\n       <use xlink:href=\"#DejaVuSans-49\"/>\n       <use x=\"63.623047\" xlink:href=\"#DejaVuSans-48\"/>\n       <use x=\"127.246094\" xlink:href=\"#DejaVuSans-48\"/>\n       <use x=\"190.869141\" xlink:href=\"#DejaVuSans-48\"/>\n      </g>\n     </g>\n    </g>\n    <g id=\"xtick_6\">\n     <g id=\"line2d_6\">\n      <g>\n       <use style=\"stroke:#000000;stroke-width:0.8;\" x=\"244.077441\" xlink:href=\"#m69bc63499d\" y=\"178.31748\"/>\n      </g>\n     </g>\n     <g id=\"text_6\">\n      <!-- 1250 -->\n      <g transform=\"translate(231.352441 192.915918)scale(0.1 -0.1)\">\n       <use xlink:href=\"#DejaVuSans-49\"/>\n       <use x=\"63.623047\" xlink:href=\"#DejaVuSans-50\"/>\n       <use x=\"127.246094\" xlink:href=\"#DejaVuSans-53\"/>\n       <use x=\"190.869141\" xlink:href=\"#DejaVuSans-48\"/>\n      </g>\n     </g>\n    </g>\n    <g id=\"xtick_7\">\n     <g id=\"line2d_7\">\n      <g>\n       <use style=\"stroke:#000000;stroke-width:0.8;\" x=\"284.946582\" xlink:href=\"#m69bc63499d\" y=\"178.31748\"/>\n      </g>\n     </g>\n     <g id=\"text_7\">\n      <!-- 1500 -->\n      <g transform=\"translate(272.221582 192.915918)scale(0.1 -0.1)\">\n       <use xlink:href=\"#DejaVuSans-49\"/>\n       <use x=\"63.623047\" xlink:href=\"#DejaVuSans-53\"/>\n       <use x=\"127.246094\" xlink:href=\"#DejaVuSans-48\"/>\n       <use x=\"190.869141\" xlink:href=\"#DejaVuSans-48\"/>\n      </g>\n     </g>\n    </g>\n    <g id=\"xtick_8\">\n     <g id=\"line2d_8\">\n      <g>\n       <use style=\"stroke:#000000;stroke-width:0.8;\" x=\"325.815723\" xlink:href=\"#m69bc63499d\" y=\"178.31748\"/>\n      </g>\n     </g>\n     <g id=\"text_8\">\n      <!-- 1750 -->\n      <g transform=\"translate(313.090723 192.915918)scale(0.1 -0.1)\">\n       <use xlink:href=\"#DejaVuSans-49\"/>\n       <use x=\"63.623047\" xlink:href=\"#DejaVuSans-55\"/>\n       <use x=\"127.246094\" xlink:href=\"#DejaVuSans-53\"/>\n       <use x=\"190.869141\" xlink:href=\"#DejaVuSans-48\"/>\n      </g>\n     </g>\n    </g>\n    <g id=\"xtick_9\">\n     <g id=\"line2d_9\">\n      <g>\n       <use style=\"stroke:#000000;stroke-width:0.8;\" x=\"366.684863\" xlink:href=\"#m69bc63499d\" y=\"178.31748\"/>\n      </g>\n     </g>\n     <g id=\"text_9\">\n      <!-- 2000 -->\n      <g transform=\"translate(353.959863 192.915918)scale(0.1 -0.1)\">\n       <use xlink:href=\"#DejaVuSans-50\"/>\n       <use x=\"63.623047\" xlink:href=\"#DejaVuSans-48\"/>\n       <use x=\"127.246094\" xlink:href=\"#DejaVuSans-48\"/>\n       <use x=\"190.869141\" xlink:href=\"#DejaVuSans-48\"/>\n      </g>\n     </g>\n    </g>\n   </g>\n   <g id=\"matplotlib.axis_2\">\n    <g id=\"ytick_1\">\n     <g id=\"line2d_10\">\n      <defs>\n       <path d=\"M 0 0 \nL -3.5 0 \n\" id=\"m27894109aa\" style=\"stroke:#000000;stroke-width:0.8;\"/>\n      </defs>\n      <g>\n       <use style=\"stroke:#000000;stroke-width:0.8;\" x=\"39.65\" xlink:href=\"#m27894109aa\" y=\"10.999219\"/>\n      </g>\n     </g>\n     <g id=\"text_10\">\n      <!-- 0 -->\n      <g transform=\"translate(26.2875 14.798438)scale(0.1 -0.1)\">\n       <use xlink:href=\"#DejaVuSans-48\"/>\n      </g>\n     </g>\n    </g>\n    <g id=\"ytick_2\">\n     <g id=\"line2d_11\">\n      <g>\n       <use style=\"stroke:#000000;stroke-width:0.8;\" x=\"39.65\" xlink:href=\"#m27894109aa\" y=\"43.694531\"/>\n      </g>\n     </g>\n     <g id=\"text_11\">\n      <!-- 200 -->\n      <g transform=\"translate(13.5625 47.49375)scale(0.1 -0.1)\">\n       <use xlink:href=\"#DejaVuSans-50\"/>\n       <use x=\"63.623047\" xlink:href=\"#DejaVuSans-48\"/>\n       <use x=\"127.246094\" xlink:href=\"#DejaVuSans-48\"/>\n      </g>\n     </g>\n    </g>\n    <g id=\"ytick_3\">\n     <g id=\"line2d_12\">\n      <g>\n       <use style=\"stroke:#000000;stroke-width:0.8;\" x=\"39.65\" xlink:href=\"#m27894109aa\" y=\"76.389844\"/>\n      </g>\n     </g>\n     <g id=\"text_12\">\n      <!-- 400 -->\n      <g transform=\"translate(13.5625 80.189063)scale(0.1 -0.1)\">\n       <defs>\n        <path d=\"M 37.796875 64.3125 \nL 12.890625 25.390625 \nL 37.796875 25.390625 \nz\nM 35.203125 72.90625 \nL 47.609375 72.90625 \nL 47.609375 25.390625 \nL 58.015625 25.390625 \nL 58.015625 17.1875 \nL 47.609375 17.1875 \nL 47.609375 0 \nL 37.796875 0 \nL 37.796875 17.1875 \nL 4.890625 17.1875 \nL 4.890625 26.703125 \nz\n\" id=\"DejaVuSans-52\"/>\n       </defs>\n       <use xlink:href=\"#DejaVuSans-52\"/>\n       <use x=\"63.623047\" xlink:href=\"#DejaVuSans-48\"/>\n       <use x=\"127.246094\" xlink:href=\"#DejaVuSans-48\"/>\n      </g>\n     </g>\n    </g>\n    <g id=\"ytick_4\">\n     <g id=\"line2d_13\">\n      <g>\n       <use style=\"stroke:#000000;stroke-width:0.8;\" x=\"39.65\" xlink:href=\"#m27894109aa\" y=\"109.085156\"/>\n      </g>\n     </g>\n     <g id=\"text_13\">\n      <!-- 600 -->\n      <g transform=\"translate(13.5625 112.884375)scale(0.1 -0.1)\">\n       <defs>\n        <path d=\"M 33.015625 40.375 \nQ 26.375 40.375 22.484375 35.828125 \nQ 18.609375 31.296875 18.609375 23.390625 \nQ 18.609375 15.53125 22.484375 10.953125 \nQ 26.375 6.390625 33.015625 6.390625 \nQ 39.65625 6.390625 43.53125 10.953125 \nQ 47.40625 15.53125 47.40625 23.390625 \nQ 47.40625 31.296875 43.53125 35.828125 \nQ 39.65625 40.375 33.015625 40.375 \nz\nM 52.59375 71.296875 \nL 52.59375 62.3125 \nQ 48.875 64.0625 45.09375 64.984375 \nQ 41.3125 65.921875 37.59375 65.921875 \nQ 27.828125 65.921875 22.671875 59.328125 \nQ 17.53125 52.734375 16.796875 39.40625 \nQ 19.671875 43.65625 24.015625 45.921875 \nQ 28.375 48.1875 33.59375 48.1875 \nQ 44.578125 48.1875 50.953125 41.515625 \nQ 57.328125 34.859375 57.328125 23.390625 \nQ 57.328125 12.15625 50.6875 5.359375 \nQ 44.046875 -1.421875 33.015625 -1.421875 \nQ 20.359375 -1.421875 13.671875 8.265625 \nQ 6.984375 17.96875 6.984375 36.375 \nQ 6.984375 53.65625 15.1875 63.9375 \nQ 23.390625 74.21875 37.203125 74.21875 \nQ 40.921875 74.21875 44.703125 73.484375 \nQ 48.484375 72.75 52.59375 71.296875 \nz\n\" id=\"DejaVuSans-54\"/>\n       </defs>\n       <use xlink:href=\"#DejaVuSans-54\"/>\n       <use x=\"63.623047\" xlink:href=\"#DejaVuSans-48\"/>\n       <use x=\"127.246094\" xlink:href=\"#DejaVuSans-48\"/>\n      </g>\n     </g>\n    </g>\n    <g id=\"ytick_5\">\n     <g id=\"line2d_14\">\n      <g>\n       <use style=\"stroke:#000000;stroke-width:0.8;\" x=\"39.65\" xlink:href=\"#m27894109aa\" y=\"141.780469\"/>\n      </g>\n     </g>\n     <g id=\"text_14\">\n      <!-- 800 -->\n      <g transform=\"translate(13.5625 145.579688)scale(0.1 -0.1)\">\n       <defs>\n        <path d=\"M 31.78125 34.625 \nQ 24.75 34.625 20.71875 30.859375 \nQ 16.703125 27.09375 16.703125 20.515625 \nQ 16.703125 13.921875 20.71875 10.15625 \nQ 24.75 6.390625 31.78125 6.390625 \nQ 38.8125 6.390625 42.859375 10.171875 \nQ 46.921875 13.96875 46.921875 20.515625 \nQ 46.921875 27.09375 42.890625 30.859375 \nQ 38.875 34.625 31.78125 34.625 \nz\nM 21.921875 38.8125 \nQ 15.578125 40.375 12.03125 44.71875 \nQ 8.5 49.078125 8.5 55.328125 \nQ 8.5 64.0625 14.71875 69.140625 \nQ 20.953125 74.21875 31.78125 74.21875 \nQ 42.671875 74.21875 48.875 69.140625 \nQ 55.078125 64.0625 55.078125 55.328125 \nQ 55.078125 49.078125 51.53125 44.71875 \nQ 48 40.375 41.703125 38.8125 \nQ 48.828125 37.15625 52.796875 32.3125 \nQ 56.78125 27.484375 56.78125 20.515625 \nQ 56.78125 9.90625 50.3125 4.234375 \nQ 43.84375 -1.421875 31.78125 -1.421875 \nQ 19.734375 -1.421875 13.25 4.234375 \nQ 6.78125 9.90625 6.78125 20.515625 \nQ 6.78125 27.484375 10.78125 32.3125 \nQ 14.796875 37.15625 21.921875 38.8125 \nz\nM 18.3125 54.390625 \nQ 18.3125 48.734375 21.84375 45.5625 \nQ 25.390625 42.390625 31.78125 42.390625 \nQ 38.140625 42.390625 41.71875 45.5625 \nQ 45.3125 48.734375 45.3125 54.390625 \nQ 45.3125 60.0625 41.71875 63.234375 \nQ 38.140625 66.40625 31.78125 66.40625 \nQ 25.390625 66.40625 21.84375 63.234375 \nQ 18.3125 60.0625 18.3125 54.390625 \nz\n\" id=\"DejaVuSans-56\"/>\n       </defs>\n       <use xlink:href=\"#DejaVuSans-56\"/>\n       <use x=\"63.623047\" xlink:href=\"#DejaVuSans-48\"/>\n       <use x=\"127.246094\" xlink:href=\"#DejaVuSans-48\"/>\n      </g>\n     </g>\n    </g>\n    <g id=\"ytick_6\">\n     <g id=\"line2d_15\">\n      <g>\n       <use style=\"stroke:#000000;stroke-width:0.8;\" x=\"39.65\" xlink:href=\"#m27894109aa\" y=\"174.475781\"/>\n      </g>\n     </g>\n     <g id=\"text_15\">\n      <!-- 1000 -->\n      <g transform=\"translate(7.2 178.275)scale(0.1 -0.1)\">\n       <use xlink:href=\"#DejaVuSans-49\"/>\n       <use x=\"63.623047\" xlink:href=\"#DejaVuSans-48\"/>\n       <use x=\"127.246094\" xlink:href=\"#DejaVuSans-48\"/>\n       <use x=\"190.869141\" xlink:href=\"#DejaVuSans-48\"/>\n      </g>\n     </g>\n    </g>\n   </g>\n   <g id=\"patch_3\">\n    <path d=\"M 39.65 178.31748 \nL 39.65 10.91748 \n\" style=\"fill:none;stroke:#000000;stroke-linecap:square;stroke-linejoin:miter;stroke-width:0.8;\"/>\n   </g>\n   <g id=\"patch_4\">\n    <path d=\"M 374.45 178.31748 \nL 374.45 10.91748 \n\" style=\"fill:none;stroke:#000000;stroke-linecap:square;stroke-linejoin:miter;stroke-width:0.8;\"/>\n   </g>\n   <g id=\"patch_5\">\n    <path d=\"M 39.65 178.31748 \nL 374.45 178.31748 \n\" style=\"fill:none;stroke:#000000;stroke-linecap:square;stroke-linejoin:miter;stroke-width:0.8;\"/>\n   </g>\n   <g id=\"patch_6\">\n    <path d=\"M 39.65 10.91748 \nL 374.45 10.91748 \n\" style=\"fill:none;stroke:#000000;stroke-linecap:square;stroke-linejoin:miter;stroke-width:0.8;\"/>\n   </g>\n  </g>\n </g>\n <defs>\n  <clipPath id=\"p711b69c5c4\">\n   <rect height=\"167.4\" width=\"334.8\" x=\"39.65\" y=\"10.91748\"/>\n  </clipPath>\n </defs>\n</svg>\n",
      "image/png": "[encoded data removed]"
     },
     "metadata": {
      "needs_background": "light"
     }
    }
   ],
   "source": [
    "image_path = '/root/Lab/data/Cityscapes/leftImg8bit/train/erfurt/erfurt_000000_000019_leftImg8bit.png'\n",
    "#image_path = dataset.image_info[image_id]['path']\n",
    "image_path = image_path.replace(\"leftImg8bit\",\"gtFine\")\n",
    "image_path = image_path.replace(\".png\", \"_polygons.json\")\n",
    "\n",
    "dct = json.load(open(image_path,'r'))\n",
    "num_instances = len(dct['objects'])\n",
    "print(num_instances)\n",
    "width = 2048\n",
    "height = 1024\n",
    "\n",
    "instance_masks = []\n",
    "class_ids = []\n",
    "\n",
    "for i in range(num_instances):\n",
    "    instance = dct['objects'][i]\n",
    "    class_ids.append(instance['label'])\n",
    "    poly = instance['polygon']\n",
    "    polygon = [tuple(pt) for pt in poly]\n",
    "    img = Image.new('L', (width, height), 0)\n",
    "    ImageDraw.Draw(img).polygon(polygon, outline=1, fill=1)\n",
    "    mask = np.array(img)\n",
    "    instance_masks.append(mask)\n",
    "    \n",
    "import matplotlib.pyplot as plt\n",
    "plt.imshow(instance_masks[74], cmap = 'gray')\n"
   ]
  },
  {
   "cell_type": "code",
   "execution_count": 18,
   "metadata": {},
   "outputs": [
    {
     "output_type": "execute_result",
     "data": {
      "text/plain": [
       "'/root/Lab/data/Cityscapes/gtFine/train/erfurt/erfurt_000000_000019_gtFine.png'"
      ]
     },
     "metadata": {},
     "execution_count": 18
    }
   ],
   "source": [
    "'/root/Lab/data/Cityscapes/leftImg8bit/train/erfurt/erfurt_000000_000019_leftImg8bit.png'.replace(\"leftImg8bit\",\"gtFine\")"
   ]
  },
  {
   "cell_type": "code",
   "execution_count": 19,
   "metadata": {
    "collapsed": true
   },
   "outputs": [
    {
     "output_type": "stream",
     "name": "stdout",
     "text": [
      "\nConfigurations:\nBACKBONE_SHAPES                [[512 512]\n [256 256]\n [128 128]\n [ 64  64]\n [ 32  32]]\nBACKBONE_STRIDES               [4, 8, 16, 32, 64]\nBATCH_SIZE                     1\nBBOX_STD_DEV                   [0.1 0.1 0.2 0.2]\nDETECTION_MAX_INSTANCES        100\nDETECTION_MIN_CONFIDENCE       0.7\nDETECTION_NMS_THRESHOLD        0.3\nGPU_COUNT                      1\nIMAGES_PER_GPU                 1\nIMAGE_MAX_DIM                  2048\nIMAGE_MIN_DIM                  1024\nIMAGE_PADDING                  True\nIMAGE_SHAPE                    [2048 2048    3]\nLEARNING_MOMENTUM              0.9\nLEARNING_RATE                  0.001\nMASK_POOL_SIZE                 14\nMASK_SHAPE                     [28, 28]\nMAX_GT_INSTANCES               100\nMEAN_PIXEL                     [123.7 116.8 103.9]\nMINI_MASK_SHAPE                (56, 56)\nNAME                           cityscapes\nNUM_CLASSES                    41\nPOOL_SIZE                      7\nPOST_NMS_ROIS_INFERENCE        1000\nPOST_NMS_ROIS_TRAINING         2000\nROI_POSITIVE_RATIO             0.33\nRPN_ANCHOR_RATIOS              [0.5, 1, 2]\nRPN_ANCHOR_SCALES              (32, 64, 128, 256, 512)\nRPN_ANCHOR_STRIDE              1\nRPN_BBOX_STD_DEV               [0.1 0.1 0.2 0.2]\nRPN_NMS_THRESHOLD              0.7\nRPN_TRAIN_ANCHORS_PER_IMAGE    256\nSTEPS_PER_EPOCH                1000\nTRAIN_ROIS_PER_IMAGE           200\nUSE_MINI_MASK                  True\nUSE_RPN_ROIS                   True\nVALIDATION_STEPS               50\nWEIGHT_DECAY                   0.0001\n\n\n"
     ]
    }
   ],
   "source": [
    "class CityscapesConfig(Config):\n",
    "    \"\"\"Configuration for training on the toy shapes dataset.\n",
    "    Derives from the base Config class and overrides values specific\n",
    "    to the toy shapes dataset.\n",
    "    \"\"\"\n",
    "    # Give the configuration a recognizable name\n",
    "    NAME = \"cityscapes\"\n",
    "\n",
    "    # Train on 1 GPU and 8 images per GPU. We can put multiple images on each\n",
    "    # GPU because the images are small. Batch size is 8 (GPUs * images/GPU).\n",
    "    GPU_COUNT = 1\n",
    "    IMAGES_PER_GPU = 1\n",
    "\n",
    "    # Number of classes (including background)\n",
    "    NUM_CLASSES = 1 + 40  # background + 3 shapes\n",
    "    \n",
    "    IMAGE_MIN_DIM = 1024\n",
    "    IMAGE_MAX_DIM = 2048\n",
    "    \n",
    "config = CityscapesConfig()\n",
    "config.display()"
   ]
  },
  {
   "cell_type": "code",
   "execution_count": 20,
   "metadata": {
    "collapsed": true
   },
   "outputs": [],
   "source": [
    "class CityscapesDataset(utils.Dataset):\n",
    "    \"\"\"Generates the shapes synthetic dataset. The dataset consists of simple\n",
    "    shapes (triangles, squares, circles) placed randomly on a blank surface.\n",
    "    The images are generated on the fly. No file access required.\n",
    "    \"\"\"\n",
    "\n",
    "    def load_cityscapes(self, count, height, width):\n",
    "        \"\"\"Generate the requested number of synthetic images.\n",
    "        count: number of images to generate.\n",
    "        height, width: the size of the generated images.\n",
    "        \"\"\"\n",
    "        # Add classes\n",
    "        for class_id, class_name in enumerate(set(labels)):\n",
    "            self.add_class(\"cityscapes\", i + 1, class_name)\n",
    "\n",
    "        # Add images\n",
    "        for i, path in enumerate(images):\n",
    "            self.add_image(\"cityscapes\", image_id=i, path=path)\n",
    "            \n",
    "    def image_reference(self, image_id):\n",
    "        \"\"\"Return the shapes data of the image.\"\"\"\n",
    "        info = self.image_info[image_id]\n",
    "        if info[\"source\"] == \"cityscapes\":\n",
    "            return info[\"cityscapes\"]\n",
    "        else:\n",
    "            super(self.__class__).image_reference(self, image_id)\n",
    "            \n",
    "    #def load_mask(self, image_id):\n",
    "        #return mask, image_ids"
   ]
  },
  {
   "cell_type": "code",
   "execution_count": null,
   "metadata": {
    "collapsed": true
   },
   "outputs": [],
   "source": []
  },
  {
   "cell_type": "code",
   "execution_count": 21,
   "metadata": {
    "collapsed": true
   },
   "outputs": [],
   "source": [
    "HOME = os.getcwd()\n",
    "TRAIN_DIR = '/root/Lab/data/Cityscapes/gtFine/train'\n",
    "VAL_DIR = '/root/Lab/data/Cityscapes/gtFine/val'\n",
    "TEST_DIR = '/root/Lab/data/Cityscapes/gtFine/test'"
   ]
  },
  {
   "cell_type": "code",
   "execution_count": 22,
   "metadata": {},
   "outputs": [
    {
     "output_type": "stream",
     "name": "stdout",
     "text": [
      "Completed City: jena in 0.43302249908447266 seconds\n",
      "Completed City: stuttgart in 1.331052541732788 seconds\n",
      "Completed City: ulm in 0.14615106582641602 seconds\n",
      "Completed City: dusseldorf in 0.7504558563232422 seconds\n",
      "Completed City: darmstadt in 0.7604267597198486 seconds\n",
      "Completed City: zurich in 0.4324822425842285 seconds\n",
      "Completed City: bremen in 1.5211269855499268 seconds\n",
      "Completed City: bochum in 0.32929205894470215 seconds\n",
      "Completed City: hamburg in 1.8965463638305664 seconds\n",
      "Completed City: tubingen in 0.3096919059753418 seconds\n",
      "Completed City: aachen in 0.5242164134979248 seconds\n",
      "Completed City: krefeld in 0.9918110370635986 seconds\n",
      "Completed City: hanover in 0.6681523323059082 seconds\n",
      "Completed City: weimar in 0.3155052661895752 seconds\n",
      "Completed City: strasbourg in 2.146744966506958 seconds\n",
      "Completed City: cologne in 0.35590648651123047 seconds\n",
      "Completed City: erfurt in 0.24722957611083984 seconds\n",
      "Completed City: monchengladbach in 1.4556546211242676 seconds\n",
      "Completed Directory train\n",
      "Completed City: frankfurt in 0.7673313617706299 seconds\n",
      "Completed City: munster in 0.44931983947753906 seconds\n",
      "Completed City: lindau in 0.12734699249267578 seconds\n",
      "Completed Directory val\n",
      "Completed City: berlin in 0.45412611961364746 seconds\n",
      "Completed City: mainz in 0.7562403678894043 seconds\n",
      "Completed City: bielefeld in 0.374661922454834 seconds\n",
      "Completed City: leverkusen in 0.06529569625854492 seconds\n",
      "Completed City: bonn in 0.03766798973083496 seconds\n",
      "Completed City: munich in 0.39273834228515625 seconds\n",
      "Completed Directory test\n"
     ]
    }
   ],
   "source": [
    "def pickle_data(color_file = \"color.pickle\", label_file = \"labels.pickle\", \n",
    "                polygon_file = \"polygons.pickle\"):\n",
    "    colors = []\n",
    "    labels = []\n",
    "    polygons = []\n",
    "    for directory in [TRAIN_DIR,VAL_DIR,TEST_DIR]:\n",
    "        cities = [d for d in os.listdir(directory) if d != 'placeholder.txt']\n",
    "        for city in cities:\n",
    "            tic = time.time()\n",
    "            city_path = os.path.join(directory, city)\n",
    "            json_files = [j for j in os.listdir(city_path) if j[-4:] == 'json']\n",
    "            for file in json_files:\n",
    "                j = os.path.join(city_path,file)\n",
    "                with open(j,'r') as f:\n",
    "                    dct = json.load(f)\n",
    "                    for i in range(len(dct['objects'])):\n",
    "                        colors.append(j)\n",
    "                        objects = dct['objects'][i]\n",
    "                        labels.append(objects['label'])\n",
    "                        polygons.append(objects['polygon'])\n",
    "            print(\"Completed City:\",city,\"in\",str(time.time() - tic),\"seconds\")\n",
    "        print(\"Completed Directory\", directory.split(\"/\")[-1])\n",
    "    pickle.dump(colors,open(color_file, \"wb\"))\n",
    "    pickle.dump(labels, open(label_file, \"wb\"))\n",
    "    pickle.dump(polygons, open(polygon_file, \"wb\"))\n",
    "    return polygons\n",
    "    \n",
    "    \n",
    "polygons = pickle_data()"
   ]
  },
  {
   "cell_type": "code",
   "execution_count": null,
   "metadata": {
    "collapsed": true
   },
   "outputs": [],
   "source": []
  },
  {
   "cell_type": "code",
   "execution_count": 23,
   "metadata": {
    "collapsed": true
   },
   "outputs": [
    {
     "output_type": "stream",
     "name": "stdout",
     "text": [
      "237465 more rois to process\n",
      "187465 more rois to process\n",
      "137465 more rois to process\n",
      "87465 more rois to process\n",
      "37465 more rois to process\n"
     ]
    }
   ],
   "source": [
    "def pickle_rois(polygons, roi_file = \"roi.pickle\"):\n",
    "    rois = []\n",
    "    count = 0\n",
    "    for poly in polygons:\n",
    "        polygon = [tuple(pt) for pt in poly]\n",
    "        xs = [x for x,y in polygon]\n",
    "        ys = [y for x,y in polygon]\n",
    "        x_min = np.min(xs)\n",
    "        x_max = np.max(xs)\n",
    "        y_min = np.min(ys)\n",
    "        y_max = np.max(ys)\n",
    "        roi = [x_min,y_min,x_max,y_max]\n",
    "        roi.append(rois)\n",
    "        count += 1\n",
    "        if count % 50000 == 0:\n",
    "            print('{} more rois to process'.format(len(polygons) - count))\n",
    "\n",
    "    pickle.dump(rois,open(roi_file, \"wb\"))\n",
    "    \n",
    "    \n",
    "pickle_rois(polygons)"
   ]
  },
  {
   "cell_type": "code",
   "execution_count": null,
   "metadata": {},
   "outputs": [],
   "source": []
  }
 ],
 "metadata": {
  "kernelspec": {
   "name": "python3",
   "display_name": "Python 3",
   "language": "python"
  },
  "language_info": {
   "codemirror_mode": {
    "name": "ipython",
    "version": 3
   },
   "file_extension": ".py",
   "mimetype": "text/x-python",
   "name": "python",
   "nbconvert_exporter": "python",
   "pygments_lexer": "ipython3",
   "version": "3.6.9"
  }
 },
 "nbformat": 4,
 "nbformat_minor": 2
}